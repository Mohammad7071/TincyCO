{
 "cells": [
  {
   "cell_type": "markdown",
   "metadata": {},
   "source": [
    "# TincyCo project"
   ]
  },
  {
   "cell_type": "code",
   "execution_count": 2,
   "metadata": {},
   "outputs": [],
   "source": [
    "import pandas as pd"
   ]
  },
  {
   "cell_type": "markdown",
   "metadata": {},
   "source": [
    "## sheet SKU Master"
   ]
  },
  {
   "cell_type": "code",
   "execution_count": 3,
   "metadata": {},
   "outputs": [
    {
     "data": {
      "text/html": [
       "<div>\n",
       "<style scoped>\n",
       "    .dataframe tbody tr th:only-of-type {\n",
       "        vertical-align: middle;\n",
       "    }\n",
       "\n",
       "    .dataframe tbody tr th {\n",
       "        vertical-align: top;\n",
       "    }\n",
       "\n",
       "    .dataframe thead th {\n",
       "        text-align: right;\n",
       "    }\n",
       "</style>\n",
       "<table border=\"1\" class=\"dataframe\">\n",
       "  <thead>\n",
       "    <tr style=\"text-align: right;\">\n",
       "      <th></th>\n",
       "      <th>Department</th>\n",
       "      <th>Class</th>\n",
       "      <th>Style</th>\n",
       "      <th>Color</th>\n",
       "      <th>SKU</th>\n",
       "      <th>Cost</th>\n",
       "      <th>Price</th>\n",
       "      <th>Vendor</th>\n",
       "    </tr>\n",
       "  </thead>\n",
       "  <tbody>\n",
       "    <tr>\n",
       "      <th>0</th>\n",
       "      <td>800.0</td>\n",
       "      <td>5.0</td>\n",
       "      <td>20.0</td>\n",
       "      <td>2.0</td>\n",
       "      <td>8000520021</td>\n",
       "      <td>7.5</td>\n",
       "      <td>9.99</td>\n",
       "      <td>MA Excellent Products</td>\n",
       "    </tr>\n",
       "    <tr>\n",
       "      <th>1</th>\n",
       "      <td>800.0</td>\n",
       "      <td>4.0</td>\n",
       "      <td>51.0</td>\n",
       "      <td>11.0</td>\n",
       "      <td>8000451112</td>\n",
       "      <td>9.0</td>\n",
       "      <td>12.99</td>\n",
       "      <td>MA Excellent Products</td>\n",
       "    </tr>\n",
       "    <tr>\n",
       "      <th>2</th>\n",
       "      <td>731.0</td>\n",
       "      <td>24.0</td>\n",
       "      <td>55.0</td>\n",
       "      <td>52.0</td>\n",
       "      <td>7312455520</td>\n",
       "      <td>25.0</td>\n",
       "      <td>31.99</td>\n",
       "      <td>MA Excellent Products</td>\n",
       "    </tr>\n",
       "    <tr>\n",
       "      <th>3</th>\n",
       "      <td>731.0</td>\n",
       "      <td>24.0</td>\n",
       "      <td>55.0</td>\n",
       "      <td>53.0</td>\n",
       "      <td>7312455530</td>\n",
       "      <td>14.5</td>\n",
       "      <td>22.99</td>\n",
       "      <td>GA General Wholesales</td>\n",
       "    </tr>\n",
       "    <tr>\n",
       "      <th>4</th>\n",
       "      <td>5001.0</td>\n",
       "      <td>201.0</td>\n",
       "      <td>12.0</td>\n",
       "      <td>4.0</td>\n",
       "      <td>50012011240</td>\n",
       "      <td>2.5</td>\n",
       "      <td>7.99</td>\n",
       "      <td>China Imports</td>\n",
       "    </tr>\n",
       "    <tr>\n",
       "      <th>5</th>\n",
       "      <td>5001.0</td>\n",
       "      <td>201.0</td>\n",
       "      <td>12.0</td>\n",
       "      <td>5.0</td>\n",
       "      <td>50012011250</td>\n",
       "      <td>7.5</td>\n",
       "      <td>9.99</td>\n",
       "      <td>China Imports</td>\n",
       "    </tr>\n",
       "    <tr>\n",
       "      <th>6</th>\n",
       "      <td>NaN</td>\n",
       "      <td>NaN</td>\n",
       "      <td>NaN</td>\n",
       "      <td>NaN</td>\n",
       "      <td>50012011340</td>\n",
       "      <td>6.0</td>\n",
       "      <td>5.99</td>\n",
       "      <td>China Imports</td>\n",
       "    </tr>\n",
       "    <tr>\n",
       "      <th>7</th>\n",
       "      <td>5001.0</td>\n",
       "      <td>201.0</td>\n",
       "      <td>13.0</td>\n",
       "      <td>4.0</td>\n",
       "      <td>50012011341</td>\n",
       "      <td>8.0</td>\n",
       "      <td>6.99</td>\n",
       "      <td>China Imports</td>\n",
       "    </tr>\n",
       "    <tr>\n",
       "      <th>8</th>\n",
       "      <td>5001.0</td>\n",
       "      <td>300.0</td>\n",
       "      <td>1.0</td>\n",
       "      <td>1.0</td>\n",
       "      <td>50013000110</td>\n",
       "      <td>6.5</td>\n",
       "      <td>12.99</td>\n",
       "      <td>China Imports</td>\n",
       "    </tr>\n",
       "  </tbody>\n",
       "</table>\n",
       "</div>"
      ],
      "text/plain": [
       "   Department  Class  Style  Color          SKU  Cost  Price  \\\n",
       "0       800.0    5.0   20.0    2.0   8000520021   7.5   9.99   \n",
       "1       800.0    4.0   51.0   11.0   8000451112   9.0  12.99   \n",
       "2       731.0   24.0   55.0   52.0   7312455520  25.0  31.99   \n",
       "3       731.0   24.0   55.0   53.0   7312455530  14.5  22.99   \n",
       "4      5001.0  201.0   12.0    4.0  50012011240   2.5   7.99   \n",
       "5      5001.0  201.0   12.0    5.0  50012011250   7.5   9.99   \n",
       "6         NaN    NaN    NaN    NaN  50012011340   6.0   5.99   \n",
       "7      5001.0  201.0   13.0    4.0  50012011341   8.0   6.99   \n",
       "8      5001.0  300.0    1.0    1.0  50013000110   6.5  12.99   \n",
       "\n",
       "                  Vendor  \n",
       "0  MA Excellent Products  \n",
       "1  MA Excellent Products  \n",
       "2  MA Excellent Products  \n",
       "3  GA General Wholesales  \n",
       "4          China Imports  \n",
       "5          China Imports  \n",
       "6          China Imports  \n",
       "7          China Imports  \n",
       "8          China Imports  "
      ]
     },
     "execution_count": 3,
     "metadata": {},
     "output_type": "execute_result"
    }
   ],
   "source": [
    "Tincy_SKU_Master=pd.read_excel('TincyCo.xlsx',sheet_name='SKU Master')\n",
    "Tincy_SKU_Master"
   ]
  },
  {
   "cell_type": "code",
   "execution_count": 4,
   "metadata": {},
   "outputs": [
    {
     "data": {
      "text/plain": [
       "Department    1\n",
       "Class         1\n",
       "Style         1\n",
       "Color         1\n",
       "SKU           0\n",
       "Cost          0\n",
       "Price         0\n",
       "Vendor        0\n",
       "dtype: int64"
      ]
     },
     "execution_count": 4,
     "metadata": {},
     "output_type": "execute_result"
    }
   ],
   "source": [
    "Tincy_SKU_Master.isna().sum()"
   ]
  },
  {
   "cell_type": "code",
   "execution_count": 5,
   "metadata": {},
   "outputs": [],
   "source": [
    "Tincy_SKU_Master.drop_duplicates(inplace=True)"
   ]
  },
  {
   "cell_type": "code",
   "execution_count": 6,
   "metadata": {},
   "outputs": [],
   "source": [
    "MA_Excellent_Products_SKU=['8000520021','8000451112','7312455520']"
   ]
  },
  {
   "cell_type": "markdown",
   "metadata": {},
   "source": [
    "## 1-sheet store 312"
   ]
  },
  {
   "cell_type": "code",
   "execution_count": 7,
   "metadata": {},
   "outputs": [
    {
     "data": {
      "text/html": [
       "<div>\n",
       "<style scoped>\n",
       "    .dataframe tbody tr th:only-of-type {\n",
       "        vertical-align: middle;\n",
       "    }\n",
       "\n",
       "    .dataframe tbody tr th {\n",
       "        vertical-align: top;\n",
       "    }\n",
       "\n",
       "    .dataframe thead th {\n",
       "        text-align: right;\n",
       "    }\n",
       "</style>\n",
       "<table border=\"1\" class=\"dataframe\">\n",
       "  <thead>\n",
       "    <tr style=\"text-align: right;\">\n",
       "      <th></th>\n",
       "      <th>DB_ID</th>\n",
       "      <th>SKU</th>\n",
       "      <th>Store</th>\n",
       "      <th>Date</th>\n",
       "      <th>Unit Sales</th>\n",
       "      <th>Dollar Sales</th>\n",
       "    </tr>\n",
       "  </thead>\n",
       "  <tbody>\n",
       "    <tr>\n",
       "      <th>0</th>\n",
       "      <td>79444</td>\n",
       "      <td>50012011250</td>\n",
       "      <td>312</td>\n",
       "      <td>2014-08-04</td>\n",
       "      <td>3</td>\n",
       "      <td>29.97</td>\n",
       "    </tr>\n",
       "    <tr>\n",
       "      <th>1</th>\n",
       "      <td>79445</td>\n",
       "      <td>50012011250</td>\n",
       "      <td>312</td>\n",
       "      <td>2014-08-05</td>\n",
       "      <td>2</td>\n",
       "      <td>19.98</td>\n",
       "    </tr>\n",
       "    <tr>\n",
       "      <th>2</th>\n",
       "      <td>79446</td>\n",
       "      <td>50012011250</td>\n",
       "      <td>312</td>\n",
       "      <td>2014-08-06</td>\n",
       "      <td>5</td>\n",
       "      <td>49.95</td>\n",
       "    </tr>\n",
       "    <tr>\n",
       "      <th>3</th>\n",
       "      <td>79447</td>\n",
       "      <td>50012011250</td>\n",
       "      <td>312</td>\n",
       "      <td>2014-08-07</td>\n",
       "      <td>3</td>\n",
       "      <td>29.97</td>\n",
       "    </tr>\n",
       "    <tr>\n",
       "      <th>4</th>\n",
       "      <td>79448</td>\n",
       "      <td>50012011250</td>\n",
       "      <td>312</td>\n",
       "      <td>2014-08-08</td>\n",
       "      <td>7</td>\n",
       "      <td>69.93</td>\n",
       "    </tr>\n",
       "    <tr>\n",
       "      <th>...</th>\n",
       "      <td>...</td>\n",
       "      <td>...</td>\n",
       "      <td>...</td>\n",
       "      <td>...</td>\n",
       "      <td>...</td>\n",
       "      <td>...</td>\n",
       "    </tr>\n",
       "    <tr>\n",
       "      <th>3691</th>\n",
       "      <td>2001791</td>\n",
       "      <td>50012011240</td>\n",
       "      <td>312</td>\n",
       "      <td>2016-08-02</td>\n",
       "      <td>1</td>\n",
       "      <td>7.99</td>\n",
       "    </tr>\n",
       "    <tr>\n",
       "      <th>3692</th>\n",
       "      <td>2001792</td>\n",
       "      <td>50012011240</td>\n",
       "      <td>312</td>\n",
       "      <td>2016-08-03</td>\n",
       "      <td>NaN</td>\n",
       "      <td>NaN</td>\n",
       "    </tr>\n",
       "    <tr>\n",
       "      <th>3693</th>\n",
       "      <td>2001793</td>\n",
       "      <td>50012011240</td>\n",
       "      <td>312</td>\n",
       "      <td>2016-08-04</td>\n",
       "      <td>3</td>\n",
       "      <td>23.97</td>\n",
       "    </tr>\n",
       "    <tr>\n",
       "      <th>3694</th>\n",
       "      <td>2001794</td>\n",
       "      <td>50012011240</td>\n",
       "      <td>312</td>\n",
       "      <td>2016-08-05</td>\n",
       "      <td>1</td>\n",
       "      <td>7.99</td>\n",
       "    </tr>\n",
       "    <tr>\n",
       "      <th>3695</th>\n",
       "      <td>2001795</td>\n",
       "      <td>50012011240</td>\n",
       "      <td>312</td>\n",
       "      <td>2016-08-06</td>\n",
       "      <td>3</td>\n",
       "      <td>23.97</td>\n",
       "    </tr>\n",
       "  </tbody>\n",
       "</table>\n",
       "<p>3696 rows × 6 columns</p>\n",
       "</div>"
      ],
      "text/plain": [
       "        DB_ID          SKU  Store       Date Unit Sales  Dollar Sales\n",
       "0       79444  50012011250    312 2014-08-04          3         29.97\n",
       "1       79445  50012011250    312 2014-08-05          2         19.98\n",
       "2       79446  50012011250    312 2014-08-06          5         49.95\n",
       "3       79447  50012011250    312 2014-08-07          3         29.97\n",
       "4       79448  50012011250    312 2014-08-08          7         69.93\n",
       "...       ...          ...    ...        ...        ...           ...\n",
       "3691  2001791  50012011240    312 2016-08-02          1          7.99\n",
       "3692  2001792  50012011240    312 2016-08-03        NaN           NaN\n",
       "3693  2001793  50012011240    312 2016-08-04          3         23.97\n",
       "3694  2001794  50012011240    312 2016-08-05          1          7.99\n",
       "3695  2001795  50012011240    312 2016-08-06          3         23.97\n",
       "\n",
       "[3696 rows x 6 columns]"
      ]
     },
     "execution_count": 7,
     "metadata": {},
     "output_type": "execute_result"
    }
   ],
   "source": [
    "Tincy_Store_312=pd.read_excel('TincyCo.xlsx',sheet_name='Store 312')\n",
    "Tincy_Store_312"
   ]
  },
  {
   "cell_type": "code",
   "execution_count": 8,
   "metadata": {},
   "outputs": [
    {
     "data": {
      "text/plain": [
       "DB_ID            0\n",
       "SKU              0\n",
       "Store            0\n",
       "Date             0\n",
       "Unit Sales      50\n",
       "Dollar Sales    80\n",
       "dtype: int64"
      ]
     },
     "execution_count": 8,
     "metadata": {},
     "output_type": "execute_result"
    }
   ],
   "source": [
    "Tincy_Store_312.isna().sum()"
   ]
  },
  {
   "cell_type": "code",
   "execution_count": 9,
   "metadata": {},
   "outputs": [],
   "source": [
    "Tincy_Store_312.drop_duplicates(inplace=True)"
   ]
  },
  {
   "cell_type": "code",
   "execution_count": 10,
   "metadata": {},
   "outputs": [],
   "source": [
    "Tincy_Store_312.dropna(inplace=True)"
   ]
  },
  {
   "cell_type": "code",
   "execution_count": 11,
   "metadata": {},
   "outputs": [
    {
     "name": "stdout",
     "output_type": "stream",
     "text": [
      "<class 'pandas.core.frame.DataFrame'>\n",
      "Index: 3613 entries, 0 to 3695\n",
      "Data columns (total 6 columns):\n",
      " #   Column        Non-Null Count  Dtype         \n",
      "---  ------        --------------  -----         \n",
      " 0   DB_ID         3613 non-null   int64         \n",
      " 1   SKU           3613 non-null   object        \n",
      " 2   Store         3613 non-null   int64         \n",
      " 3   Date          3613 non-null   datetime64[ns]\n",
      " 4   Unit Sales    3613 non-null   object        \n",
      " 5   Dollar Sales  3613 non-null   float64       \n",
      "dtypes: datetime64[ns](1), float64(1), int64(2), object(2)\n",
      "memory usage: 197.6+ KB\n"
     ]
    }
   ],
   "source": [
    "Tincy_Store_312.info()"
   ]
  },
  {
   "cell_type": "code",
   "execution_count": 12,
   "metadata": {},
   "outputs": [
    {
     "data": {
      "text/html": [
       "<div>\n",
       "<style scoped>\n",
       "    .dataframe tbody tr th:only-of-type {\n",
       "        vertical-align: middle;\n",
       "    }\n",
       "\n",
       "    .dataframe tbody tr th {\n",
       "        vertical-align: top;\n",
       "    }\n",
       "\n",
       "    .dataframe thead th {\n",
       "        text-align: right;\n",
       "    }\n",
       "</style>\n",
       "<table border=\"1\" class=\"dataframe\">\n",
       "  <thead>\n",
       "    <tr style=\"text-align: right;\">\n",
       "      <th></th>\n",
       "      <th>DB_ID</th>\n",
       "      <th>SKU</th>\n",
       "      <th>Store</th>\n",
       "      <th>Date</th>\n",
       "      <th>Unit Sales</th>\n",
       "      <th>Dollar Sales</th>\n",
       "      <th>week</th>\n",
       "    </tr>\n",
       "  </thead>\n",
       "  <tbody>\n",
       "    <tr>\n",
       "      <th>0</th>\n",
       "      <td>79444</td>\n",
       "      <td>50012011250</td>\n",
       "      <td>312</td>\n",
       "      <td>2014-08-04</td>\n",
       "      <td>3</td>\n",
       "      <td>29.97</td>\n",
       "      <td>32</td>\n",
       "    </tr>\n",
       "    <tr>\n",
       "      <th>1</th>\n",
       "      <td>79445</td>\n",
       "      <td>50012011250</td>\n",
       "      <td>312</td>\n",
       "      <td>2014-08-05</td>\n",
       "      <td>2</td>\n",
       "      <td>19.98</td>\n",
       "      <td>32</td>\n",
       "    </tr>\n",
       "    <tr>\n",
       "      <th>2</th>\n",
       "      <td>79446</td>\n",
       "      <td>50012011250</td>\n",
       "      <td>312</td>\n",
       "      <td>2014-08-06</td>\n",
       "      <td>5</td>\n",
       "      <td>49.95</td>\n",
       "      <td>32</td>\n",
       "    </tr>\n",
       "    <tr>\n",
       "      <th>3</th>\n",
       "      <td>79447</td>\n",
       "      <td>50012011250</td>\n",
       "      <td>312</td>\n",
       "      <td>2014-08-07</td>\n",
       "      <td>3</td>\n",
       "      <td>29.97</td>\n",
       "      <td>32</td>\n",
       "    </tr>\n",
       "    <tr>\n",
       "      <th>4</th>\n",
       "      <td>79448</td>\n",
       "      <td>50012011250</td>\n",
       "      <td>312</td>\n",
       "      <td>2014-08-08</td>\n",
       "      <td>7</td>\n",
       "      <td>69.93</td>\n",
       "      <td>32</td>\n",
       "    </tr>\n",
       "    <tr>\n",
       "      <th>...</th>\n",
       "      <td>...</td>\n",
       "      <td>...</td>\n",
       "      <td>...</td>\n",
       "      <td>...</td>\n",
       "      <td>...</td>\n",
       "      <td>...</td>\n",
       "      <td>...</td>\n",
       "    </tr>\n",
       "    <tr>\n",
       "      <th>3690</th>\n",
       "      <td>2001790</td>\n",
       "      <td>50012011240</td>\n",
       "      <td>312</td>\n",
       "      <td>2016-08-01</td>\n",
       "      <td>2</td>\n",
       "      <td>15.98</td>\n",
       "      <td>31</td>\n",
       "    </tr>\n",
       "    <tr>\n",
       "      <th>3691</th>\n",
       "      <td>2001791</td>\n",
       "      <td>50012011240</td>\n",
       "      <td>312</td>\n",
       "      <td>2016-08-02</td>\n",
       "      <td>1</td>\n",
       "      <td>7.99</td>\n",
       "      <td>31</td>\n",
       "    </tr>\n",
       "    <tr>\n",
       "      <th>3693</th>\n",
       "      <td>2001793</td>\n",
       "      <td>50012011240</td>\n",
       "      <td>312</td>\n",
       "      <td>2016-08-04</td>\n",
       "      <td>3</td>\n",
       "      <td>23.97</td>\n",
       "      <td>31</td>\n",
       "    </tr>\n",
       "    <tr>\n",
       "      <th>3694</th>\n",
       "      <td>2001794</td>\n",
       "      <td>50012011240</td>\n",
       "      <td>312</td>\n",
       "      <td>2016-08-05</td>\n",
       "      <td>1</td>\n",
       "      <td>7.99</td>\n",
       "      <td>31</td>\n",
       "    </tr>\n",
       "    <tr>\n",
       "      <th>3695</th>\n",
       "      <td>2001795</td>\n",
       "      <td>50012011240</td>\n",
       "      <td>312</td>\n",
       "      <td>2016-08-06</td>\n",
       "      <td>3</td>\n",
       "      <td>23.97</td>\n",
       "      <td>31</td>\n",
       "    </tr>\n",
       "  </tbody>\n",
       "</table>\n",
       "<p>3613 rows × 7 columns</p>\n",
       "</div>"
      ],
      "text/plain": [
       "        DB_ID          SKU  Store       Date Unit Sales  Dollar Sales  week\n",
       "0       79444  50012011250    312 2014-08-04          3         29.97    32\n",
       "1       79445  50012011250    312 2014-08-05          2         19.98    32\n",
       "2       79446  50012011250    312 2014-08-06          5         49.95    32\n",
       "3       79447  50012011250    312 2014-08-07          3         29.97    32\n",
       "4       79448  50012011250    312 2014-08-08          7         69.93    32\n",
       "...       ...          ...    ...        ...        ...           ...   ...\n",
       "3690  2001790  50012011240    312 2016-08-01          2         15.98    31\n",
       "3691  2001791  50012011240    312 2016-08-02          1          7.99    31\n",
       "3693  2001793  50012011240    312 2016-08-04          3         23.97    31\n",
       "3694  2001794  50012011240    312 2016-08-05          1          7.99    31\n",
       "3695  2001795  50012011240    312 2016-08-06          3         23.97    31\n",
       "\n",
       "[3613 rows x 7 columns]"
      ]
     },
     "execution_count": 12,
     "metadata": {},
     "output_type": "execute_result"
    }
   ],
   "source": [
    "Tincy_Store_312['week']=Tincy_Store_312['Date'].dt.isocalendar().week\n",
    "Tincy_Store_312"
   ]
  },
  {
   "cell_type": "markdown",
   "metadata": {},
   "source": [
    "find which week have top sale in store 312"
   ]
  },
  {
   "cell_type": "code",
   "execution_count": 13,
   "metadata": {},
   "outputs": [],
   "source": [
    "Ma_Excellent_Products=Tincy_SKU_Master[Tincy_SKU_Master['Vendor']=='MA Excellent Products']['SKU']\n",
    "Combine312=Tincy_Store_312[Tincy_Store_312['SKU'].isin(Ma_Excellent_Products)]"
   ]
  },
  {
   "cell_type": "code",
   "execution_count": 14,
   "metadata": {},
   "outputs": [
    {
     "name": "stdout",
     "output_type": "stream",
     "text": [
      "The week with the highst sales for MA Excellent products is in store 312 week 13 with sales of 6225.4$.\n"
     ]
    }
   ],
   "source": [
    "Weekly_Sales=Combine312.groupby('week')['Dollar Sales'].sum()\n",
    "Top_Week=Weekly_Sales.idxmax()\n",
    "Top_Sales=Weekly_Sales.max()\n",
    "print(f\"The week with the highst sales for MA Excellent products is in store 312 week {Top_Week} with sales of {Top_Sales}$.\")"
   ]
  },
  {
   "cell_type": "markdown",
   "metadata": {},
   "source": [
    "Calculate net profit for store 312"
   ]
  },
  {
   "cell_type": "code",
   "execution_count": 15,
   "metadata": {},
   "outputs": [
    {
     "data": {
      "text/html": [
       "<div>\n",
       "<style scoped>\n",
       "    .dataframe tbody tr th:only-of-type {\n",
       "        vertical-align: middle;\n",
       "    }\n",
       "\n",
       "    .dataframe tbody tr th {\n",
       "        vertical-align: top;\n",
       "    }\n",
       "\n",
       "    .dataframe thead th {\n",
       "        text-align: right;\n",
       "    }\n",
       "</style>\n",
       "<table border=\"1\" class=\"dataframe\">\n",
       "  <thead>\n",
       "    <tr style=\"text-align: right;\">\n",
       "      <th></th>\n",
       "      <th>Year</th>\n",
       "      <th>Net Profit</th>\n",
       "    </tr>\n",
       "  </thead>\n",
       "  <tbody>\n",
       "    <tr>\n",
       "      <th>0</th>\n",
       "      <td>2014</td>\n",
       "      <td>301674.235398</td>\n",
       "    </tr>\n",
       "    <tr>\n",
       "      <th>1</th>\n",
       "      <td>2015</td>\n",
       "      <td>229927.649174</td>\n",
       "    </tr>\n",
       "    <tr>\n",
       "      <th>2</th>\n",
       "      <td>2016</td>\n",
       "      <td>406862.992033</td>\n",
       "    </tr>\n",
       "  </tbody>\n",
       "</table>\n",
       "</div>"
      ],
      "text/plain": [
       "   Year     Net Profit\n",
       "0  2014  301674.235398\n",
       "1  2015  229927.649174\n",
       "2  2016  406862.992033"
      ]
     },
     "execution_count": 15,
     "metadata": {},
     "output_type": "execute_result"
    }
   ],
   "source": [
    "Tincy_Store_312['Year']=Tincy_Store_312['Date'].dt.year\n",
    "merged312 = pd.merge(Tincy_SKU_Master, Tincy_Store_312, on='SKU')\n",
    "china_import_df = merged312[merged312['Vendor'] == 'China Imports'].copy()\n",
    "china_import_df['Net Profit'] = china_import_df['Dollar Sales'] - (china_import_df['Cost'] * china_import_df['Dollar Sales'] / china_import_df['Price'])\n",
    "china_import_df.reset_index(drop=True)\n",
    "\n",
    "china_import_df.groupby([\"Year\"])[['Net Profit']].sum().reset_index()"
   ]
  },
  {
   "cell_type": "markdown",
   "metadata": {},
   "source": [
    "Best day for advertays item MA Excellent pruducts in store 312"
   ]
  },
  {
   "cell_type": "code",
   "execution_count": 16,
   "metadata": {},
   "outputs": [
    {
     "data": {
      "text/html": [
       "<div>\n",
       "<style scoped>\n",
       "    .dataframe tbody tr th:only-of-type {\n",
       "        vertical-align: middle;\n",
       "    }\n",
       "\n",
       "    .dataframe tbody tr th {\n",
       "        vertical-align: top;\n",
       "    }\n",
       "\n",
       "    .dataframe thead th {\n",
       "        text-align: right;\n",
       "    }\n",
       "</style>\n",
       "<table border=\"1\" class=\"dataframe\">\n",
       "  <thead>\n",
       "    <tr style=\"text-align: right;\">\n",
       "      <th></th>\n",
       "      <th>Day</th>\n",
       "      <th>Dollar Sales</th>\n",
       "    </tr>\n",
       "  </thead>\n",
       "  <tbody>\n",
       "    <tr>\n",
       "      <th>4</th>\n",
       "      <td>Tuesday</td>\n",
       "      <td>18723.75</td>\n",
       "    </tr>\n",
       "  </tbody>\n",
       "</table>\n",
       "</div>"
      ],
      "text/plain": [
       "       Day  Dollar Sales\n",
       "4  Tuesday      18723.75"
      ]
     },
     "execution_count": 16,
     "metadata": {},
     "output_type": "execute_result"
    }
   ],
   "source": [
    "Tincy_Store_312['Day']=Tincy_Store_312['Date'].dt.day_name()\n",
    "merged_df = pd.merge(Tincy_SKU_Master, Tincy_Store_312, on='SKU')\n",
    "china_import_df = merged_df[merged_df['Vendor'] == 'MA Excellent Products']\n",
    "\n",
    "#Tincy_Store_312\n",
    "mean_sales_df = china_import_df.groupby('Day')['Dollar Sales'].sum().reset_index()\n",
    "mean_sales_df.nsmallest(n=1,columns='Dollar Sales')"
   ]
  },
  {
   "cell_type": "markdown",
   "metadata": {},
   "source": [
    "کمترین فروش برای روز سه شنبه می باشد .پبشنهاد من این است که  روز دو شنبه تبلیغ برای فروش انجام شود تا  به  روز کم فروش (سه شنبه) نزدیک باشد و یک روز کامل فرصت تبلیغ است.\n",
    "The lowest sales are for Tuesday. My recommendation is to advertise for sales on Monday so that it is close to the low sales day (Tuesday) and there is a full day of advertising time."
   ]
  },
  {
   "cell_type": "markdown",
   "metadata": {},
   "source": [
    "## 2-sheet store 521"
   ]
  },
  {
   "cell_type": "code",
   "execution_count": 17,
   "metadata": {},
   "outputs": [
    {
     "data": {
      "text/html": [
       "<div>\n",
       "<style scoped>\n",
       "    .dataframe tbody tr th:only-of-type {\n",
       "        vertical-align: middle;\n",
       "    }\n",
       "\n",
       "    .dataframe tbody tr th {\n",
       "        vertical-align: top;\n",
       "    }\n",
       "\n",
       "    .dataframe thead th {\n",
       "        text-align: right;\n",
       "    }\n",
       "</style>\n",
       "<table border=\"1\" class=\"dataframe\">\n",
       "  <thead>\n",
       "    <tr style=\"text-align: right;\">\n",
       "      <th></th>\n",
       "      <th>DB_ID</th>\n",
       "      <th>SKU</th>\n",
       "      <th>Store</th>\n",
       "      <th>Date</th>\n",
       "      <th>Unit Sales</th>\n",
       "      <th>Dollar Sales</th>\n",
       "    </tr>\n",
       "  </thead>\n",
       "  <tbody>\n",
       "    <tr>\n",
       "      <th>0</th>\n",
       "      <td>95435</td>\n",
       "      <td>7312455520</td>\n",
       "      <td>521</td>\n",
       "      <td>2004-08-31</td>\n",
       "      <td>3</td>\n",
       "      <td>68.97</td>\n",
       "    </tr>\n",
       "    <tr>\n",
       "      <th>1</th>\n",
       "      <td>95436</td>\n",
       "      <td>7312455520</td>\n",
       "      <td>521</td>\n",
       "      <td>2004-09-03</td>\n",
       "      <td>2</td>\n",
       "      <td>51.98</td>\n",
       "    </tr>\n",
       "    <tr>\n",
       "      <th>2</th>\n",
       "      <td>95437</td>\n",
       "      <td>7312455520</td>\n",
       "      <td>521</td>\n",
       "      <td>2004-09-03</td>\n",
       "      <td>2</td>\n",
       "      <td>45.98</td>\n",
       "    </tr>\n",
       "    <tr>\n",
       "      <th>3</th>\n",
       "      <td>95438</td>\n",
       "      <td>7312455520</td>\n",
       "      <td>521</td>\n",
       "      <td>2004-09-03</td>\n",
       "      <td>2</td>\n",
       "      <td>45.98</td>\n",
       "    </tr>\n",
       "    <tr>\n",
       "      <th>4</th>\n",
       "      <td>95439</td>\n",
       "      <td>7312455520</td>\n",
       "      <td>521</td>\n",
       "      <td>2004-09-07</td>\n",
       "      <td>3</td>\n",
       "      <td>68.97</td>\n",
       "    </tr>\n",
       "    <tr>\n",
       "      <th>...</th>\n",
       "      <td>...</td>\n",
       "      <td>...</td>\n",
       "      <td>...</td>\n",
       "      <td>...</td>\n",
       "      <td>...</td>\n",
       "      <td>...</td>\n",
       "    </tr>\n",
       "    <tr>\n",
       "      <th>3539</th>\n",
       "      <td>81499</td>\n",
       "      <td>50*12011250</td>\n",
       "      <td>521</td>\n",
       "      <td>2005-03-31</td>\n",
       "      <td>5</td>\n",
       "      <td>49.95</td>\n",
       "    </tr>\n",
       "    <tr>\n",
       "      <th>3540</th>\n",
       "      <td>81533</td>\n",
       "      <td>50*12011250</td>\n",
       "      <td>521</td>\n",
       "      <td>2005-05-11</td>\n",
       "      <td>2</td>\n",
       "      <td>19.98</td>\n",
       "    </tr>\n",
       "    <tr>\n",
       "      <th>3541</th>\n",
       "      <td>81669</td>\n",
       "      <td>50*12011250</td>\n",
       "      <td>521</td>\n",
       "      <td>2005-10-21</td>\n",
       "      <td>7</td>\n",
       "      <td>69.93</td>\n",
       "    </tr>\n",
       "    <tr>\n",
       "      <th>3542</th>\n",
       "      <td>81702</td>\n",
       "      <td>50*12011250</td>\n",
       "      <td>521</td>\n",
       "      <td>2005-12-01</td>\n",
       "      <td>3</td>\n",
       "      <td>29.97</td>\n",
       "    </tr>\n",
       "    <tr>\n",
       "      <th>3543</th>\n",
       "      <td>81769</td>\n",
       "      <td>50*12011250</td>\n",
       "      <td>521</td>\n",
       "      <td>2006-02-22</td>\n",
       "      <td>2</td>\n",
       "      <td>19.98</td>\n",
       "    </tr>\n",
       "  </tbody>\n",
       "</table>\n",
       "<p>3544 rows × 6 columns</p>\n",
       "</div>"
      ],
      "text/plain": [
       "      DB_ID          SKU  Store       Date Unit Sales  Dollar Sales\n",
       "0     95435   7312455520    521 2004-08-31          3         68.97\n",
       "1     95436   7312455520    521 2004-09-03          2         51.98\n",
       "2     95437   7312455520    521 2004-09-03          2         45.98\n",
       "3     95438   7312455520    521 2004-09-03          2         45.98\n",
       "4     95439   7312455520    521 2004-09-07          3         68.97\n",
       "...     ...          ...    ...        ...        ...           ...\n",
       "3539  81499  50*12011250    521 2005-03-31          5         49.95\n",
       "3540  81533  50*12011250    521 2005-05-11          2         19.98\n",
       "3541  81669  50*12011250    521 2005-10-21          7         69.93\n",
       "3542  81702  50*12011250    521 2005-12-01          3         29.97\n",
       "3543  81769  50*12011250    521 2006-02-22          2         19.98\n",
       "\n",
       "[3544 rows x 6 columns]"
      ]
     },
     "execution_count": 17,
     "metadata": {},
     "output_type": "execute_result"
    }
   ],
   "source": [
    "Tincy_Store_521=pd.read_excel('TincyCo.xlsx',sheet_name='Store 521')\n",
    "Tincy_Store_521"
   ]
  },
  {
   "cell_type": "code",
   "execution_count": 18,
   "metadata": {},
   "outputs": [],
   "source": [
    "Tincy_Store_521.drop_duplicates(inplace=True)"
   ]
  },
  {
   "cell_type": "code",
   "execution_count": 19,
   "metadata": {},
   "outputs": [
    {
     "data": {
      "text/plain": [
       "DB_ID            0\n",
       "SKU              0\n",
       "Store            0\n",
       "Date             0\n",
       "Unit Sales      48\n",
       "Dollar Sales    65\n",
       "dtype: int64"
      ]
     },
     "execution_count": 19,
     "metadata": {},
     "output_type": "execute_result"
    }
   ],
   "source": [
    "Tincy_Store_521.isna().sum()"
   ]
  },
  {
   "cell_type": "code",
   "execution_count": 20,
   "metadata": {},
   "outputs": [],
   "source": [
    "Tincy_Store_521.dropna(inplace=True)"
   ]
  },
  {
   "cell_type": "code",
   "execution_count": 21,
   "metadata": {},
   "outputs": [
    {
     "name": "stdout",
     "output_type": "stream",
     "text": [
      "<class 'pandas.core.frame.DataFrame'>\n",
      "Index: 3476 entries, 0 to 3543\n",
      "Data columns (total 6 columns):\n",
      " #   Column        Non-Null Count  Dtype         \n",
      "---  ------        --------------  -----         \n",
      " 0   DB_ID         3476 non-null   int64         \n",
      " 1   SKU           3476 non-null   object        \n",
      " 2   Store         3476 non-null   int64         \n",
      " 3   Date          3476 non-null   datetime64[ns]\n",
      " 4   Unit Sales    3476 non-null   object        \n",
      " 5   Dollar Sales  3476 non-null   float64       \n",
      "dtypes: datetime64[ns](1), float64(1), int64(2), object(2)\n",
      "memory usage: 190.1+ KB\n"
     ]
    }
   ],
   "source": [
    "Tincy_Store_521.info()"
   ]
  },
  {
   "cell_type": "code",
   "execution_count": 22,
   "metadata": {},
   "outputs": [],
   "source": [
    "Tincy_Store_521['week']=Tincy_Store_521['Date'].dt.isocalendar().week"
   ]
  },
  {
   "cell_type": "markdown",
   "metadata": {},
   "source": [
    "find which week have top sale in store 521"
   ]
  },
  {
   "cell_type": "code",
   "execution_count": 23,
   "metadata": {},
   "outputs": [
    {
     "name": "stdout",
     "output_type": "stream",
     "text": [
      "The week with the highst sales for MA Excellent products in store 521 is week 3 with sales of 5057.66$.\n"
     ]
    }
   ],
   "source": [
    "Combine521=Tincy_Store_521[Tincy_Store_521['SKU'].isin(Ma_Excellent_Products)]\n",
    "Weekly_Sales=Combine521.groupby('week')['Dollar Sales'].sum()\n",
    "Top_Week=Weekly_Sales.idxmax()\n",
    "Top_Sales=Weekly_Sales.max()\n",
    "print(f\"The week with the highst sales for MA Excellent products in store 521 is week {Top_Week} with sales of {Top_Sales}$.\")"
   ]
  },
  {
   "cell_type": "markdown",
   "metadata": {},
   "source": [
    "Calculate net profit for store 521, item china imports"
   ]
  },
  {
   "cell_type": "code",
   "execution_count": 24,
   "metadata": {},
   "outputs": [
    {
     "data": {
      "text/html": [
       "<div>\n",
       "<style scoped>\n",
       "    .dataframe tbody tr th:only-of-type {\n",
       "        vertical-align: middle;\n",
       "    }\n",
       "\n",
       "    .dataframe tbody tr th {\n",
       "        vertical-align: top;\n",
       "    }\n",
       "\n",
       "    .dataframe thead th {\n",
       "        text-align: right;\n",
       "    }\n",
       "</style>\n",
       "<table border=\"1\" class=\"dataframe\">\n",
       "  <thead>\n",
       "    <tr style=\"text-align: right;\">\n",
       "      <th></th>\n",
       "      <th>Year</th>\n",
       "      <th>Net Profit</th>\n",
       "    </tr>\n",
       "  </thead>\n",
       "  <tbody>\n",
       "    <tr>\n",
       "      <th>0</th>\n",
       "      <td>2004</td>\n",
       "      <td>227407.603380</td>\n",
       "    </tr>\n",
       "    <tr>\n",
       "      <th>1</th>\n",
       "      <td>2005</td>\n",
       "      <td>180942.520651</td>\n",
       "    </tr>\n",
       "    <tr>\n",
       "      <th>2</th>\n",
       "      <td>2006</td>\n",
       "      <td>132827.005402</td>\n",
       "    </tr>\n",
       "  </tbody>\n",
       "</table>\n",
       "</div>"
      ],
      "text/plain": [
       "   Year     Net Profit\n",
       "0  2004  227407.603380\n",
       "1  2005  180942.520651\n",
       "2  2006  132827.005402"
      ]
     },
     "execution_count": 24,
     "metadata": {},
     "output_type": "execute_result"
    }
   ],
   "source": [
    "Tincy_Store_521['Year']=Tincy_Store_521['Date'].dt.year\n",
    "merged521 = pd.merge(Tincy_SKU_Master, Tincy_Store_521, on='SKU')\n",
    "china_import_df = merged521[merged521['Vendor'] == 'China Imports'].copy()\n",
    "china_import_df['Net Profit'] = china_import_df['Dollar Sales'] - (china_import_df['Cost'] * china_import_df['Dollar Sales'] / china_import_df['Price'])\n",
    "china_import_df.reset_index(drop=True)\n",
    "\n",
    "china_import_df.groupby([\"Year\"])[['Net Profit']].sum().reset_index()"
   ]
  },
  {
   "cell_type": "markdown",
   "metadata": {},
   "source": [
    "## 3-sheet_632"
   ]
  },
  {
   "cell_type": "code",
   "execution_count": 25,
   "metadata": {},
   "outputs": [
    {
     "data": {
      "text/html": [
       "<div>\n",
       "<style scoped>\n",
       "    .dataframe tbody tr th:only-of-type {\n",
       "        vertical-align: middle;\n",
       "    }\n",
       "\n",
       "    .dataframe tbody tr th {\n",
       "        vertical-align: top;\n",
       "    }\n",
       "\n",
       "    .dataframe thead th {\n",
       "        text-align: right;\n",
       "    }\n",
       "</style>\n",
       "<table border=\"1\" class=\"dataframe\">\n",
       "  <thead>\n",
       "    <tr style=\"text-align: right;\">\n",
       "      <th></th>\n",
       "      <th>DB_ID</th>\n",
       "      <th>SKU</th>\n",
       "      <th>Store</th>\n",
       "      <th>Date</th>\n",
       "      <th>Unit Sales</th>\n",
       "      <th>Dollar Sales</th>\n",
       "    </tr>\n",
       "  </thead>\n",
       "  <tbody>\n",
       "    <tr>\n",
       "      <th>0</th>\n",
       "      <td>95610</td>\n",
       "      <td>7312455520</td>\n",
       "      <td>632</td>\n",
       "      <td>2004-08-19</td>\n",
       "      <td>1</td>\n",
       "      <td>22.99</td>\n",
       "    </tr>\n",
       "    <tr>\n",
       "      <th>1</th>\n",
       "      <td>95611</td>\n",
       "      <td>7312455520</td>\n",
       "      <td>632</td>\n",
       "      <td>2004-08-20</td>\n",
       "      <td>2</td>\n",
       "      <td>45.98</td>\n",
       "    </tr>\n",
       "    <tr>\n",
       "      <th>2</th>\n",
       "      <td>95612</td>\n",
       "      <td>7312455520</td>\n",
       "      <td>632</td>\n",
       "      <td>2004-08-21</td>\n",
       "      <td>2</td>\n",
       "      <td>51.98</td>\n",
       "    </tr>\n",
       "    <tr>\n",
       "      <th>3</th>\n",
       "      <td>95613</td>\n",
       "      <td>7312455520</td>\n",
       "      <td>632</td>\n",
       "      <td>2004-08-27</td>\n",
       "      <td>2</td>\n",
       "      <td>45.98</td>\n",
       "    </tr>\n",
       "    <tr>\n",
       "      <th>4</th>\n",
       "      <td>95614</td>\n",
       "      <td>7312455520</td>\n",
       "      <td>632</td>\n",
       "      <td>2004-08-28</td>\n",
       "      <td>2</td>\n",
       "      <td>51.98</td>\n",
       "    </tr>\n",
       "    <tr>\n",
       "      <th>...</th>\n",
       "      <td>...</td>\n",
       "      <td>...</td>\n",
       "      <td>...</td>\n",
       "      <td>...</td>\n",
       "      <td>...</td>\n",
       "      <td>...</td>\n",
       "    </tr>\n",
       "    <tr>\n",
       "      <th>4948</th>\n",
       "      <td>82140</td>\n",
       "      <td>50*12011250</td>\n",
       "      <td>632</td>\n",
       "      <td>2005-05-12</td>\n",
       "      <td>2</td>\n",
       "      <td>19.98</td>\n",
       "    </tr>\n",
       "    <tr>\n",
       "      <th>4949</th>\n",
       "      <td>82174</td>\n",
       "      <td>50*12011250</td>\n",
       "      <td>632</td>\n",
       "      <td>2005-06-22</td>\n",
       "      <td>-A45%0 4</td>\n",
       "      <td>NaN</td>\n",
       "    </tr>\n",
       "    <tr>\n",
       "      <th>4950</th>\n",
       "      <td>82341</td>\n",
       "      <td>50*12011250</td>\n",
       "      <td>632</td>\n",
       "      <td>2006-01-12</td>\n",
       "      <td>-A45%0 2</td>\n",
       "      <td>NaN</td>\n",
       "    </tr>\n",
       "    <tr>\n",
       "      <th>4951</th>\n",
       "      <td>82480</td>\n",
       "      <td>50*12011250</td>\n",
       "      <td>632</td>\n",
       "      <td>2006-06-24</td>\n",
       "      <td>2</td>\n",
       "      <td>19.98</td>\n",
       "    </tr>\n",
       "    <tr>\n",
       "      <th>4952</th>\n",
       "      <td>82514</td>\n",
       "      <td>50*12011250</td>\n",
       "      <td>632</td>\n",
       "      <td>2006-08-04</td>\n",
       "      <td>2</td>\n",
       "      <td>19.98</td>\n",
       "    </tr>\n",
       "  </tbody>\n",
       "</table>\n",
       "<p>4953 rows × 6 columns</p>\n",
       "</div>"
      ],
      "text/plain": [
       "      DB_ID          SKU  Store       Date Unit Sales  Dollar Sales\n",
       "0     95610   7312455520    632 2004-08-19          1         22.99\n",
       "1     95611   7312455520    632 2004-08-20          2         45.98\n",
       "2     95612   7312455520    632 2004-08-21          2         51.98\n",
       "3     95613   7312455520    632 2004-08-27          2         45.98\n",
       "4     95614   7312455520    632 2004-08-28          2         51.98\n",
       "...     ...          ...    ...        ...        ...           ...\n",
       "4948  82140  50*12011250    632 2005-05-12          2         19.98\n",
       "4949  82174  50*12011250    632 2005-06-22   -A45%0 4           NaN\n",
       "4950  82341  50*12011250    632 2006-01-12   -A45%0 2           NaN\n",
       "4951  82480  50*12011250    632 2006-06-24          2         19.98\n",
       "4952  82514  50*12011250    632 2006-08-04          2         19.98\n",
       "\n",
       "[4953 rows x 6 columns]"
      ]
     },
     "execution_count": 25,
     "metadata": {},
     "output_type": "execute_result"
    }
   ],
   "source": [
    "Tincy_Store_632=pd.read_excel('TincyCo.xlsx',sheet_name='Store 632')\n",
    "Tincy_Store_632"
   ]
  },
  {
   "cell_type": "code",
   "execution_count": 26,
   "metadata": {},
   "outputs": [],
   "source": [
    "Tincy_Store_632.drop_duplicates(inplace=True)"
   ]
  },
  {
   "cell_type": "code",
   "execution_count": 27,
   "metadata": {},
   "outputs": [
    {
     "data": {
      "text/plain": [
       "DB_ID            0\n",
       "SKU              0\n",
       "Store            0\n",
       "Date             0\n",
       "Unit Sales      49\n",
       "Dollar Sales    73\n",
       "dtype: int64"
      ]
     },
     "execution_count": 27,
     "metadata": {},
     "output_type": "execute_result"
    }
   ],
   "source": [
    "Tincy_Store_632.isna().sum()"
   ]
  },
  {
   "cell_type": "code",
   "execution_count": 28,
   "metadata": {},
   "outputs": [],
   "source": [
    "Tincy_Store_632.dropna(inplace=True)"
   ]
  },
  {
   "cell_type": "code",
   "execution_count": 29,
   "metadata": {},
   "outputs": [
    {
     "name": "stdout",
     "output_type": "stream",
     "text": [
      "<class 'pandas.core.frame.DataFrame'>\n",
      "Index: 4876 entries, 0 to 4952\n",
      "Data columns (total 6 columns):\n",
      " #   Column        Non-Null Count  Dtype         \n",
      "---  ------        --------------  -----         \n",
      " 0   DB_ID         4876 non-null   int64         \n",
      " 1   SKU           4876 non-null   object        \n",
      " 2   Store         4876 non-null   int64         \n",
      " 3   Date          4876 non-null   datetime64[ns]\n",
      " 4   Unit Sales    4876 non-null   object        \n",
      " 5   Dollar Sales  4876 non-null   float64       \n",
      "dtypes: datetime64[ns](1), float64(1), int64(2), object(2)\n",
      "memory usage: 266.7+ KB\n"
     ]
    }
   ],
   "source": [
    "Tincy_Store_632.info()"
   ]
  },
  {
   "cell_type": "code",
   "execution_count": 30,
   "metadata": {},
   "outputs": [],
   "source": [
    "Tincy_Store_632['week']=Tincy_Store_632['Date'].dt.isocalendar().week"
   ]
  },
  {
   "cell_type": "markdown",
   "metadata": {},
   "source": [
    "find which week have top sale in store 632"
   ]
  },
  {
   "cell_type": "code",
   "execution_count": 31,
   "metadata": {},
   "outputs": [
    {
     "name": "stdout",
     "output_type": "stream",
     "text": [
      "The week with the highst sales for MA Excellent products in store 632 is week 20 with sales of 14569.65$.\n"
     ]
    }
   ],
   "source": [
    "Combine632=Tincy_Store_632[Tincy_Store_632['SKU'].isin(Ma_Excellent_Products)]\n",
    "Weekly_Sales=Combine632.groupby('week')['Dollar Sales'].sum()\n",
    "Top_Week=Weekly_Sales.idxmax()\n",
    "Top_Sales=Weekly_Sales.max()\n",
    "print(f\"The week with the highst sales for MA Excellent products in store 632 is week {Top_Week} with sales of {Top_Sales}$.\")"
   ]
  },
  {
   "cell_type": "markdown",
   "metadata": {},
   "source": [
    "Calculate net profit for store 632, item china imports"
   ]
  },
  {
   "cell_type": "code",
   "execution_count": 33,
   "metadata": {},
   "outputs": [
    {
     "data": {
      "text/html": [
       "<div>\n",
       "<style scoped>\n",
       "    .dataframe tbody tr th:only-of-type {\n",
       "        vertical-align: middle;\n",
       "    }\n",
       "\n",
       "    .dataframe tbody tr th {\n",
       "        vertical-align: top;\n",
       "    }\n",
       "\n",
       "    .dataframe thead th {\n",
       "        text-align: right;\n",
       "    }\n",
       "</style>\n",
       "<table border=\"1\" class=\"dataframe\">\n",
       "  <thead>\n",
       "    <tr style=\"text-align: right;\">\n",
       "      <th></th>\n",
       "      <th>Year</th>\n",
       "      <th>Net Profit</th>\n",
       "    </tr>\n",
       "  </thead>\n",
       "  <tbody>\n",
       "    <tr>\n",
       "      <th>0</th>\n",
       "      <td>2004</td>\n",
       "      <td>77686.332963</td>\n",
       "    </tr>\n",
       "    <tr>\n",
       "      <th>1</th>\n",
       "      <td>2005</td>\n",
       "      <td>106026.525507</td>\n",
       "    </tr>\n",
       "    <tr>\n",
       "      <th>2</th>\n",
       "      <td>2006</td>\n",
       "      <td>157958.431759</td>\n",
       "    </tr>\n",
       "  </tbody>\n",
       "</table>\n",
       "</div>"
      ],
      "text/plain": [
       "   Year     Net Profit\n",
       "0  2004   77686.332963\n",
       "1  2005  106026.525507\n",
       "2  2006  157958.431759"
      ]
     },
     "execution_count": 33,
     "metadata": {},
     "output_type": "execute_result"
    }
   ],
   "source": [
    "Tincy_Store_632['Year']=Tincy_Store_632['Date'].dt.year\n",
    "merged632 = pd.merge(Tincy_SKU_Master, Tincy_Store_632, on='SKU')\n",
    "china_import_df = merged632[merged632['Vendor'] == 'China Imports'].copy()\n",
    "china_import_df['Net Profit'] = china_import_df['Dollar Sales'] - (china_import_df['Cost'] * china_import_df['Dollar Sales'] / china_import_df['Price'])\n",
    "china_import_df.reset_index(drop=True)\n",
    "\n",
    "china_import_df.groupby([\"Year\"])[['Net Profit']].sum().reset_index()"
   ]
  },
  {
   "cell_type": "markdown",
   "metadata": {},
   "source": [
    "## 4-store 415"
   ]
  },
  {
   "cell_type": "code",
   "execution_count": 34,
   "metadata": {},
   "outputs": [
    {
     "data": {
      "text/html": [
       "<div>\n",
       "<style scoped>\n",
       "    .dataframe tbody tr th:only-of-type {\n",
       "        vertical-align: middle;\n",
       "    }\n",
       "\n",
       "    .dataframe tbody tr th {\n",
       "        vertical-align: top;\n",
       "    }\n",
       "\n",
       "    .dataframe thead th {\n",
       "        text-align: right;\n",
       "    }\n",
       "</style>\n",
       "<table border=\"1\" class=\"dataframe\">\n",
       "  <thead>\n",
       "    <tr style=\"text-align: right;\">\n",
       "      <th></th>\n",
       "      <th>DB_ID</th>\n",
       "      <th>SKU</th>\n",
       "      <th>Store</th>\n",
       "      <th>Date</th>\n",
       "      <th>Unit Sales</th>\n",
       "      <th>Dollar Sales</th>\n",
       "    </tr>\n",
       "  </thead>\n",
       "  <tbody>\n",
       "    <tr>\n",
       "      <th>0</th>\n",
       "      <td>95280</td>\n",
       "      <td>7312455520</td>\n",
       "      <td>415</td>\n",
       "      <td>2004-08-18</td>\n",
       "      <td>1</td>\n",
       "      <td>22.99</td>\n",
       "    </tr>\n",
       "    <tr>\n",
       "      <th>1</th>\n",
       "      <td>95281</td>\n",
       "      <td>7312455520</td>\n",
       "      <td>415</td>\n",
       "      <td>2004-08-19</td>\n",
       "      <td>1</td>\n",
       "      <td>25.99</td>\n",
       "    </tr>\n",
       "    <tr>\n",
       "      <th>2</th>\n",
       "      <td>95282</td>\n",
       "      <td>7312455520</td>\n",
       "      <td>415</td>\n",
       "      <td>2004-08-20</td>\n",
       "      <td>1</td>\n",
       "      <td>25.99</td>\n",
       "    </tr>\n",
       "    <tr>\n",
       "      <th>3</th>\n",
       "      <td>95283</td>\n",
       "      <td>7312455520</td>\n",
       "      <td>415</td>\n",
       "      <td>2004-08-26</td>\n",
       "      <td>1</td>\n",
       "      <td>25.99</td>\n",
       "    </tr>\n",
       "    <tr>\n",
       "      <th>4</th>\n",
       "      <td>95284</td>\n",
       "      <td>7312455520</td>\n",
       "      <td>415</td>\n",
       "      <td>2004-09-15</td>\n",
       "      <td>1</td>\n",
       "      <td>22.99</td>\n",
       "    </tr>\n",
       "    <tr>\n",
       "      <th>...</th>\n",
       "      <td>...</td>\n",
       "      <td>...</td>\n",
       "      <td>...</td>\n",
       "      <td>...</td>\n",
       "      <td>...</td>\n",
       "      <td>...</td>\n",
       "    </tr>\n",
       "    <tr>\n",
       "      <th>3619</th>\n",
       "      <td>85139</td>\n",
       "      <td>50013000110</td>\n",
       "      <td>415</td>\n",
       "      <td>2006-05-30</td>\n",
       "      <td>30</td>\n",
       "      <td>389.70</td>\n",
       "    </tr>\n",
       "    <tr>\n",
       "      <th>3620</th>\n",
       "      <td>85140</td>\n",
       "      <td>50013000110</td>\n",
       "      <td>415</td>\n",
       "      <td>2006-05-31</td>\n",
       "      <td>31</td>\n",
       "      <td>402.69</td>\n",
       "    </tr>\n",
       "    <tr>\n",
       "      <th>3621</th>\n",
       "      <td>80778</td>\n",
       "      <td>50*12011250</td>\n",
       "      <td>415</td>\n",
       "      <td>2004-11-29</td>\n",
       "      <td>4</td>\n",
       "      <td>39.96</td>\n",
       "    </tr>\n",
       "    <tr>\n",
       "      <th>3622</th>\n",
       "      <td>80811</td>\n",
       "      <td>50*12011250</td>\n",
       "      <td>415</td>\n",
       "      <td>2005-01-08</td>\n",
       "      <td>1</td>\n",
       "      <td>9.99</td>\n",
       "    </tr>\n",
       "    <tr>\n",
       "      <th>3623</th>\n",
       "      <td>81222</td>\n",
       "      <td>50*12011250</td>\n",
       "      <td>415</td>\n",
       "      <td>2006-05-13</td>\n",
       "      <td>5</td>\n",
       "      <td>49.95</td>\n",
       "    </tr>\n",
       "  </tbody>\n",
       "</table>\n",
       "<p>3624 rows × 6 columns</p>\n",
       "</div>"
      ],
      "text/plain": [
       "      DB_ID          SKU  Store       Date Unit Sales  Dollar Sales\n",
       "0     95280   7312455520    415 2004-08-18          1         22.99\n",
       "1     95281   7312455520    415 2004-08-19          1         25.99\n",
       "2     95282   7312455520    415 2004-08-20          1         25.99\n",
       "3     95283   7312455520    415 2004-08-26          1         25.99\n",
       "4     95284   7312455520    415 2004-09-15          1         22.99\n",
       "...     ...          ...    ...        ...        ...           ...\n",
       "3619  85139  50013000110    415 2006-05-30         30        389.70\n",
       "3620  85140  50013000110    415 2006-05-31         31        402.69\n",
       "3621  80778  50*12011250    415 2004-11-29          4         39.96\n",
       "3622  80811  50*12011250    415 2005-01-08          1          9.99\n",
       "3623  81222  50*12011250    415 2006-05-13          5         49.95\n",
       "\n",
       "[3624 rows x 6 columns]"
      ]
     },
     "execution_count": 34,
     "metadata": {},
     "output_type": "execute_result"
    }
   ],
   "source": [
    "Tincy_Store_415=pd.read_excel('TincyCo.xlsx',sheet_name='Store 415')\n",
    "Tincy_Store_415"
   ]
  },
  {
   "cell_type": "code",
   "execution_count": 35,
   "metadata": {},
   "outputs": [],
   "source": [
    "Tincy_Store_415.drop_duplicates(inplace=True)"
   ]
  },
  {
   "cell_type": "code",
   "execution_count": 36,
   "metadata": {},
   "outputs": [
    {
     "data": {
      "text/plain": [
       "DB_ID            0\n",
       "SKU              0\n",
       "Store            0\n",
       "Date             0\n",
       "Unit Sales      54\n",
       "Dollar Sales    72\n",
       "dtype: int64"
      ]
     },
     "execution_count": 36,
     "metadata": {},
     "output_type": "execute_result"
    }
   ],
   "source": [
    "Tincy_Store_415.isna().sum()"
   ]
  },
  {
   "cell_type": "code",
   "execution_count": 37,
   "metadata": {},
   "outputs": [],
   "source": [
    "Tincy_Store_415.dropna(inplace=True)"
   ]
  },
  {
   "cell_type": "code",
   "execution_count": 38,
   "metadata": {},
   "outputs": [
    {
     "name": "stdout",
     "output_type": "stream",
     "text": [
      "<class 'pandas.core.frame.DataFrame'>\n",
      "Index: 3549 entries, 0 to 3623\n",
      "Data columns (total 6 columns):\n",
      " #   Column        Non-Null Count  Dtype         \n",
      "---  ------        --------------  -----         \n",
      " 0   DB_ID         3549 non-null   int64         \n",
      " 1   SKU           3549 non-null   object        \n",
      " 2   Store         3549 non-null   int64         \n",
      " 3   Date          3549 non-null   datetime64[ns]\n",
      " 4   Unit Sales    3549 non-null   object        \n",
      " 5   Dollar Sales  3549 non-null   float64       \n",
      "dtypes: datetime64[ns](1), float64(1), int64(2), object(2)\n",
      "memory usage: 194.1+ KB\n"
     ]
    }
   ],
   "source": [
    "Tincy_Store_415.info()"
   ]
  },
  {
   "cell_type": "code",
   "execution_count": 39,
   "metadata": {},
   "outputs": [],
   "source": [
    "Tincy_Store_415['week']=Tincy_Store_415['Date'].dt.isocalendar().week"
   ]
  },
  {
   "cell_type": "markdown",
   "metadata": {},
   "source": [
    "find which week have top sale in store 415"
   ]
  },
  {
   "cell_type": "code",
   "execution_count": 40,
   "metadata": {},
   "outputs": [
    {
     "name": "stdout",
     "output_type": "stream",
     "text": [
      "The week with the highst sales for MA Excellent products in store 415 is week 23 with sales of 4858.53$.\n"
     ]
    }
   ],
   "source": [
    "Combine415=Tincy_Store_415[Tincy_Store_415['SKU'].isin(Ma_Excellent_Products)]\n",
    "Weekly_Sales=Combine415.groupby('week')['Dollar Sales'].sum()\n",
    "Top_Week=Weekly_Sales.idxmax()\n",
    "Top_Sales=Weekly_Sales.max()\n",
    "print(f\"The week with the highst sales for MA Excellent products in store 415 is week {Top_Week} with sales of {Top_Sales}$.\")"
   ]
  },
  {
   "cell_type": "markdown",
   "metadata": {},
   "source": [
    "Calculate net profit for store 415, item china imports"
   ]
  },
  {
   "cell_type": "code",
   "execution_count": 41,
   "metadata": {},
   "outputs": [
    {
     "data": {
      "text/html": [
       "<div>\n",
       "<style scoped>\n",
       "    .dataframe tbody tr th:only-of-type {\n",
       "        vertical-align: middle;\n",
       "    }\n",
       "\n",
       "    .dataframe tbody tr th {\n",
       "        vertical-align: top;\n",
       "    }\n",
       "\n",
       "    .dataframe thead th {\n",
       "        text-align: right;\n",
       "    }\n",
       "</style>\n",
       "<table border=\"1\" class=\"dataframe\">\n",
       "  <thead>\n",
       "    <tr style=\"text-align: right;\">\n",
       "      <th></th>\n",
       "      <th>Year</th>\n",
       "      <th>Net Profit</th>\n",
       "    </tr>\n",
       "  </thead>\n",
       "  <tbody>\n",
       "    <tr>\n",
       "      <th>0</th>\n",
       "      <td>2004</td>\n",
       "      <td>2723.343143</td>\n",
       "    </tr>\n",
       "    <tr>\n",
       "      <th>1</th>\n",
       "      <td>2005</td>\n",
       "      <td>404884.978930</td>\n",
       "    </tr>\n",
       "    <tr>\n",
       "      <th>2</th>\n",
       "      <td>2006</td>\n",
       "      <td>357562.154707</td>\n",
       "    </tr>\n",
       "  </tbody>\n",
       "</table>\n",
       "</div>"
      ],
      "text/plain": [
       "   Year     Net Profit\n",
       "0  2004    2723.343143\n",
       "1  2005  404884.978930\n",
       "2  2006  357562.154707"
      ]
     },
     "execution_count": 41,
     "metadata": {},
     "output_type": "execute_result"
    }
   ],
   "source": [
    "Tincy_Store_415['Year']=Tincy_Store_415['Date'].dt.year\n",
    "merged415 = pd.merge(Tincy_SKU_Master, Tincy_Store_415, on='SKU')\n",
    "china_import_df = merged415[merged415['Vendor'] == 'China Imports'].copy()\n",
    "china_import_df['Net Profit'] = china_import_df['Dollar Sales'] - (china_import_df['Cost'] * china_import_df['Dollar Sales'] / china_import_df['Price'])\n",
    "china_import_df.reset_index(drop=True)\n",
    "\n",
    "china_import_df.groupby([\"Year\"])[['Net Profit']].sum().reset_index()"
   ]
  },
  {
   "cell_type": "markdown",
   "metadata": {},
   "source": [
    "## 5-store 323"
   ]
  },
  {
   "cell_type": "code",
   "execution_count": 42,
   "metadata": {},
   "outputs": [
    {
     "data": {
      "text/html": [
       "<div>\n",
       "<style scoped>\n",
       "    .dataframe tbody tr th:only-of-type {\n",
       "        vertical-align: middle;\n",
       "    }\n",
       "\n",
       "    .dataframe tbody tr th {\n",
       "        vertical-align: top;\n",
       "    }\n",
       "\n",
       "    .dataframe thead th {\n",
       "        text-align: right;\n",
       "    }\n",
       "</style>\n",
       "<table border=\"1\" class=\"dataframe\">\n",
       "  <thead>\n",
       "    <tr style=\"text-align: right;\">\n",
       "      <th></th>\n",
       "      <th>DB_ID</th>\n",
       "      <th>SKU</th>\n",
       "      <th>Store</th>\n",
       "      <th>Date</th>\n",
       "      <th>Unit Sales</th>\n",
       "      <th>Dollar Sales</th>\n",
       "    </tr>\n",
       "  </thead>\n",
       "  <tbody>\n",
       "    <tr>\n",
       "      <th>0</th>\n",
       "      <td>95059</td>\n",
       "      <td>7312455520</td>\n",
       "      <td>323</td>\n",
       "      <td>2004-08-24</td>\n",
       "      <td>3</td>\n",
       "      <td>68.97</td>\n",
       "    </tr>\n",
       "    <tr>\n",
       "      <th>1</th>\n",
       "      <td>95060</td>\n",
       "      <td>7312455520</td>\n",
       "      <td>323</td>\n",
       "      <td>2004-09-14</td>\n",
       "      <td>3</td>\n",
       "      <td>77.97</td>\n",
       "    </tr>\n",
       "    <tr>\n",
       "      <th>2</th>\n",
       "      <td>95061</td>\n",
       "      <td>7312455520</td>\n",
       "      <td>323</td>\n",
       "      <td>2004-09-27</td>\n",
       "      <td>3</td>\n",
       "      <td>68.97</td>\n",
       "    </tr>\n",
       "    <tr>\n",
       "      <th>3</th>\n",
       "      <td>95062</td>\n",
       "      <td>7312455520</td>\n",
       "      <td>323</td>\n",
       "      <td>2004-09-27</td>\n",
       "      <td>3</td>\n",
       "      <td>68.97</td>\n",
       "    </tr>\n",
       "    <tr>\n",
       "      <th>4</th>\n",
       "      <td>95063</td>\n",
       "      <td>7312455520</td>\n",
       "      <td>323</td>\n",
       "      <td>2004-09-28</td>\n",
       "      <td>3</td>\n",
       "      <td>77.97</td>\n",
       "    </tr>\n",
       "    <tr>\n",
       "      <th>...</th>\n",
       "      <td>...</td>\n",
       "      <td>...</td>\n",
       "      <td>...</td>\n",
       "      <td>...</td>\n",
       "      <td>...</td>\n",
       "      <td>...</td>\n",
       "    </tr>\n",
       "    <tr>\n",
       "      <th>3456</th>\n",
       "      <td>80212</td>\n",
       "      <td>50*12011250</td>\n",
       "      <td>323</td>\n",
       "      <td>2005-01-29</td>\n",
       "      <td>3</td>\n",
       "      <td>29.97</td>\n",
       "    </tr>\n",
       "    <tr>\n",
       "      <th>3457</th>\n",
       "      <td>80213</td>\n",
       "      <td>50*12011250</td>\n",
       "      <td>323</td>\n",
       "      <td>2005-01-31</td>\n",
       "      <td>2</td>\n",
       "      <td>19.98</td>\n",
       "    </tr>\n",
       "    <tr>\n",
       "      <th>3458</th>\n",
       "      <td>80289</td>\n",
       "      <td>50*12011250</td>\n",
       "      <td>323</td>\n",
       "      <td>2005-05-02</td>\n",
       "      <td>7</td>\n",
       "      <td>699.93</td>\n",
       "    </tr>\n",
       "    <tr>\n",
       "      <th>3459</th>\n",
       "      <td>80539</td>\n",
       "      <td>50*12011250</td>\n",
       "      <td>323</td>\n",
       "      <td>2006-02-21</td>\n",
       "      <td>5</td>\n",
       "      <td>49.95</td>\n",
       "    </tr>\n",
       "    <tr>\n",
       "      <th>3460</th>\n",
       "      <td>80674</td>\n",
       "      <td>50*12011250</td>\n",
       "      <td>323</td>\n",
       "      <td>2006-08-03</td>\n",
       "      <td>2</td>\n",
       "      <td>19.98</td>\n",
       "    </tr>\n",
       "  </tbody>\n",
       "</table>\n",
       "<p>3461 rows × 6 columns</p>\n",
       "</div>"
      ],
      "text/plain": [
       "      DB_ID          SKU  Store       Date Unit Sales  Dollar Sales\n",
       "0     95059   7312455520    323 2004-08-24          3         68.97\n",
       "1     95060   7312455520    323 2004-09-14          3         77.97\n",
       "2     95061   7312455520    323 2004-09-27          3         68.97\n",
       "3     95062   7312455520    323 2004-09-27          3         68.97\n",
       "4     95063   7312455520    323 2004-09-28          3         77.97\n",
       "...     ...          ...    ...        ...        ...           ...\n",
       "3456  80212  50*12011250    323 2005-01-29          3         29.97\n",
       "3457  80213  50*12011250    323 2005-01-31          2         19.98\n",
       "3458  80289  50*12011250    323 2005-05-02          7        699.93\n",
       "3459  80539  50*12011250    323 2006-02-21          5         49.95\n",
       "3460  80674  50*12011250    323 2006-08-03          2         19.98\n",
       "\n",
       "[3461 rows x 6 columns]"
      ]
     },
     "execution_count": 42,
     "metadata": {},
     "output_type": "execute_result"
    }
   ],
   "source": [
    "Tincy_Store_323=pd.read_excel('TincyCo.xlsx',sheet_name='Store 323')\n",
    "Tincy_Store_323"
   ]
  },
  {
   "cell_type": "code",
   "execution_count": 43,
   "metadata": {},
   "outputs": [],
   "source": [
    "Tincy_Store_323.drop_duplicates(inplace=True)"
   ]
  },
  {
   "cell_type": "code",
   "execution_count": 44,
   "metadata": {},
   "outputs": [
    {
     "data": {
      "text/plain": [
       "DB_ID            0\n",
       "SKU              0\n",
       "Store            0\n",
       "Date             0\n",
       "Unit Sales      58\n",
       "Dollar Sales    77\n",
       "dtype: int64"
      ]
     },
     "execution_count": 44,
     "metadata": {},
     "output_type": "execute_result"
    }
   ],
   "source": [
    "Tincy_Store_323.isna().sum()"
   ]
  },
  {
   "cell_type": "code",
   "execution_count": 45,
   "metadata": {},
   "outputs": [],
   "source": [
    "Tincy_Store_323.dropna(inplace=True)"
   ]
  },
  {
   "cell_type": "code",
   "execution_count": 46,
   "metadata": {},
   "outputs": [
    {
     "name": "stdout",
     "output_type": "stream",
     "text": [
      "<class 'pandas.core.frame.DataFrame'>\n",
      "Index: 3380 entries, 0 to 3460\n",
      "Data columns (total 6 columns):\n",
      " #   Column        Non-Null Count  Dtype         \n",
      "---  ------        --------------  -----         \n",
      " 0   DB_ID         3380 non-null   int64         \n",
      " 1   SKU           3380 non-null   object        \n",
      " 2   Store         3380 non-null   int64         \n",
      " 3   Date          3380 non-null   datetime64[ns]\n",
      " 4   Unit Sales    3380 non-null   object        \n",
      " 5   Dollar Sales  3380 non-null   float64       \n",
      "dtypes: datetime64[ns](1), float64(1), int64(2), object(2)\n",
      "memory usage: 184.8+ KB\n"
     ]
    }
   ],
   "source": [
    "Tincy_Store_323.info()"
   ]
  },
  {
   "cell_type": "code",
   "execution_count": 47,
   "metadata": {},
   "outputs": [],
   "source": [
    "Tincy_Store_323['week']=Tincy_Store_323['Date'].dt.isocalendar().week"
   ]
  },
  {
   "cell_type": "markdown",
   "metadata": {},
   "source": [
    "find which week have top sale in store 323"
   ]
  },
  {
   "cell_type": "code",
   "execution_count": 48,
   "metadata": {},
   "outputs": [
    {
     "name": "stdout",
     "output_type": "stream",
     "text": [
      "The week with the highst sales for MA Excellent products in store 323 is week 52 with sales of 4550.37$.\n"
     ]
    }
   ],
   "source": [
    "Combine323=Tincy_Store_323[Tincy_Store_323['SKU'].isin(Ma_Excellent_Products)]\n",
    "Weekly_Sales=Combine323.groupby('week')['Dollar Sales'].sum()\n",
    "Top_Week=Weekly_Sales.idxmax()\n",
    "Top_Sales=Weekly_Sales.max()\n",
    "print(f\"The week with the highst sales for MA Excellent products in store 323 is week {Top_Week} with sales of {Top_Sales}$.\")"
   ]
  },
  {
   "cell_type": "markdown",
   "metadata": {},
   "source": [
    "Calculate net profit for store323, item china imports"
   ]
  },
  {
   "cell_type": "code",
   "execution_count": 49,
   "metadata": {},
   "outputs": [
    {
     "data": {
      "text/html": [
       "<div>\n",
       "<style scoped>\n",
       "    .dataframe tbody tr th:only-of-type {\n",
       "        vertical-align: middle;\n",
       "    }\n",
       "\n",
       "    .dataframe tbody tr th {\n",
       "        vertical-align: top;\n",
       "    }\n",
       "\n",
       "    .dataframe thead th {\n",
       "        text-align: right;\n",
       "    }\n",
       "</style>\n",
       "<table border=\"1\" class=\"dataframe\">\n",
       "  <thead>\n",
       "    <tr style=\"text-align: right;\">\n",
       "      <th></th>\n",
       "      <th>Year</th>\n",
       "      <th>Net Profit</th>\n",
       "    </tr>\n",
       "  </thead>\n",
       "  <tbody>\n",
       "    <tr>\n",
       "      <th>0</th>\n",
       "      <td>2014</td>\n",
       "      <td>301674.235398</td>\n",
       "    </tr>\n",
       "    <tr>\n",
       "      <th>1</th>\n",
       "      <td>2015</td>\n",
       "      <td>229927.649174</td>\n",
       "    </tr>\n",
       "    <tr>\n",
       "      <th>2</th>\n",
       "      <td>2016</td>\n",
       "      <td>406862.992033</td>\n",
       "    </tr>\n",
       "  </tbody>\n",
       "</table>\n",
       "</div>"
      ],
      "text/plain": [
       "   Year     Net Profit\n",
       "0  2014  301674.235398\n",
       "1  2015  229927.649174\n",
       "2  2016  406862.992033"
      ]
     },
     "execution_count": 49,
     "metadata": {},
     "output_type": "execute_result"
    }
   ],
   "source": [
    "Tincy_Store_312['Year']=Tincy_Store_312['Date'].dt.year\n",
    "merged312 = pd.merge(Tincy_SKU_Master, Tincy_Store_312, on='SKU')\n",
    "china_import_df = merged312[merged312['Vendor'] == 'China Imports'].copy()\n",
    "china_import_df['Net Profit'] = china_import_df['Dollar Sales'] - (china_import_df['Cost'] * china_import_df['Dollar Sales'] / china_import_df['Price'])\n",
    "china_import_df.reset_index(drop=True)\n",
    "\n",
    "china_import_df.groupby([\"Year\"])[['Net Profit']].sum().reset_index()"
   ]
  }
 ],
 "metadata": {
  "kernelspec": {
   "display_name": "emohammad",
   "language": "python",
   "name": "python3"
  },
  "language_info": {
   "codemirror_mode": {
    "name": "ipython",
    "version": 3
   },
   "file_extension": ".py",
   "mimetype": "text/x-python",
   "name": "python",
   "nbconvert_exporter": "python",
   "pygments_lexer": "ipython3",
   "version": "3.12.2"
  }
 },
 "nbformat": 4,
 "nbformat_minor": 2
}
